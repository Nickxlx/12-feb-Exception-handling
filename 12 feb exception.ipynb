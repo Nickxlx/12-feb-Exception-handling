{
 "cells": [
  {
   "cell_type": "markdown",
   "id": "2eef1902-90c5-4b0e-9456-3893fea84e3a",
   "metadata": {},
   "source": [
    "Q1. What is an Exception in pthon? Write the difference between Exceptions and syntex errors\n",
    "\n",
    "Answer --> Exception is an error that occurce durting the exicution of program . The Exception breaks the flow of program and raise an Exception object . This object contains information about the type of error and the location where the exception is occurse in the code.  \n",
    "\n",
    "Syntax error occurs when there is any syntectical error in the program before the exicution of program by the python interpretor while interpreting the code . Syntex error includes missing parameters , missplaced keywords and parentheses or quotation "
   ]
  },
  {
   "cell_type": "code",
   "execution_count": null,
   "id": "96a0f8d8-6dfa-43ec-b7ce-ca676efe6e4a",
   "metadata": {},
   "outputs": [],
   "source": []
  },
  {
   "cell_type": "markdown",
   "id": "2e59a362-f481-473d-afe5-bbf0b7224b1e",
   "metadata": {},
   "source": [
    "Q2. What happens when an exception is not handled? Explain with an example.\n",
    "\n",
    "Answer --> if an Exception is not handeled then the code after that line where we suppose to geting an error will not impliment and our programe will probebly crash just becouse of only one or two error    "
   ]
  },
  {
   "cell_type": "code",
   "execution_count": 1,
   "id": "50369f4f-9f7e-4180-88ae-fbe949889488",
   "metadata": {},
   "outputs": [
    {
     "name": "stdin",
     "output_type": "stream",
     "text": [
      "Enter a  between 5 to 10  :  4d\n"
     ]
    },
    {
     "ename": "ValueError",
     "evalue": "invalid literal for int() with base 10: '4d'",
     "output_type": "error",
     "traceback": [
      "\u001b[0;31m---------------------------------------------------------------------------\u001b[0m",
      "\u001b[0;31mValueError\u001b[0m                                Traceback (most recent call last)",
      "Cell \u001b[0;32mIn[1], line 4\u001b[0m\n\u001b[1;32m      1\u001b[0m \u001b[38;5;66;03m# wwithout exception handling\u001b[39;00m\n\u001b[1;32m      2\u001b[0m result \u001b[38;5;241m=\u001b[39m \u001b[38;5;241m0\u001b[39m\n\u001b[0;32m----> 4\u001b[0m a  \u001b[38;5;241m=\u001b[39m \u001b[38;5;28;43mint\u001b[39;49m\u001b[43m(\u001b[49m\u001b[38;5;28;43minput\u001b[39;49m\u001b[43m(\u001b[49m\u001b[38;5;124;43m\"\u001b[39;49m\u001b[38;5;124;43mEnter a  between 5 to 10  : \u001b[39;49m\u001b[38;5;124;43m\"\u001b[39;49m\u001b[43m)\u001b[49m\u001b[43m)\u001b[49m\n\u001b[1;32m      5\u001b[0m \u001b[38;5;28;01mif\u001b[39;00m a \u001b[38;5;129;01min\u001b[39;00m \u001b[38;5;28mrange\u001b[39m(\u001b[38;5;241m5\u001b[39m,\u001b[38;5;241m11\u001b[39m) \u001b[38;5;129;01mand\u001b[39;00m \u001b[38;5;28mtype\u001b[39m(a)\u001b[38;5;241m==\u001b[39m\u001b[38;5;28mint\u001b[39m:\n\u001b[1;32m      6\u001b[0m     result \u001b[38;5;241m=\u001b[39m a\u001b[38;5;241m*\u001b[39m\u001b[38;5;241m2\u001b[39m\n",
      "\u001b[0;31mValueError\u001b[0m: invalid literal for int() with base 10: '4d'"
     ]
    }
   ],
   "source": [
    "# wwithout exception handling\n",
    "result = 0\n",
    "\n",
    "a  = int(input(\"Enter a  between 5 to 10  : \"))\n",
    "if a in range(5,11) and type(a)==int:\n",
    "    result = a*2\n",
    "print(result)"
   ]
  },
  {
   "cell_type": "code",
   "execution_count": 2,
   "id": "69ff4d57-948a-41c5-a460-34d4366adf7f",
   "metadata": {},
   "outputs": [
    {
     "name": "stdin",
     "output_type": "stream",
     "text": [
      "Enter a  between 5 to 10  :  f\n"
     ]
    },
    {
     "name": "stdout",
     "output_type": "stream",
     "text": [
      "invalid literal for int() with base 10: 'f'\n",
      "0\n"
     ]
    }
   ],
   "source": [
    "# wwith exception handling\n",
    "# Example \n",
    "\n",
    "result = 0\n",
    "try:\n",
    "    a  = int(input(\"Enter a  between 5 to 10  : \"))\n",
    "    if a in range(5,11) and type(a)== int:\n",
    "        result = a*2\n",
    "except Exception as e:\n",
    "    print(e)\n",
    "finally:\n",
    "    print(result)"
   ]
  },
  {
   "cell_type": "code",
   "execution_count": null,
   "id": "795d68ab-470e-40d5-a7c3-47518b7d936f",
   "metadata": {},
   "outputs": [],
   "source": []
  },
  {
   "cell_type": "markdown",
   "id": "a408534b-0807-49ed-b0f3-f5c73f81a7b8",
   "metadata": {},
   "source": [
    "Q3. Which Python statements are used to catch and handle exceptions? Explain with an example. \n",
    "\n",
    "Answer --> The try and except block in Python is used to catch and handle exceptions. "
   ]
  },
  {
   "cell_type": "code",
   "execution_count": 8,
   "id": "a3fcda58-68bd-428a-8f37-080045f83262",
   "metadata": {},
   "outputs": [
    {
     "name": "stdout",
     "output_type": "stream",
     "text": [
      "[Errno 2] No such file or directory: 'test.txt'\n"
     ]
    }
   ],
   "source": [
    "try: \n",
    "    with open (\"test.txt\", \"r\") as f :\n",
    "        f.read()\n",
    "except Exception as e:\n",
    "    print(e)"
   ]
  },
  {
   "cell_type": "code",
   "execution_count": null,
   "id": "003ec36a-9456-41a1-8ce1-6fe4005acd8c",
   "metadata": {},
   "outputs": [],
   "source": []
  },
  {
   "cell_type": "markdown",
   "id": "df8acbba-b6b7-49a1-9be1-c0232faca74a",
   "metadata": {},
   "source": [
    "Q4. Explain with an example:\n",
    " \n",
    "a. try and else \n",
    "b. finally \n",
    "c. raise"
   ]
  },
  {
   "cell_type": "markdown",
   "id": "d3158c79-4cfe-4ac4-b189-339201da2a00",
   "metadata": {},
   "source": [
    "In Python, try and else are used together to handle exceptions. The try block contains the code that may raise an exception, and the else block contains the code that will be executed if no exception is raised."
   ]
  },
  {
   "cell_type": "code",
   "execution_count": 4,
   "id": "0e7803b7-1b04-47e5-9cf6-8624d4e08669",
   "metadata": {},
   "outputs": [
    {
     "name": "stdin",
     "output_type": "stream",
     "text": [
      "Enter a number:  df\n"
     ]
    },
    {
     "name": "stdout",
     "output_type": "stream",
     "text": [
      "Invalid input, please enter a number.\n"
     ]
    }
   ],
   "source": [
    "# Here's an example\n",
    "try:\n",
    "    x = int(input(\"Enter a number: \"))\n",
    "except ValueError:\n",
    "    print(\"Invalid input, please enter a number.\")\n",
    "else:\n",
    "    print(\"You entered:\", x)"
   ]
  },
  {
   "cell_type": "code",
   "execution_count": null,
   "id": "c588e8a1-e6c3-4eb5-a2b0-30ecb7ca8c17",
   "metadata": {},
   "outputs": [],
   "source": []
  },
  {
   "cell_type": "markdown",
   "id": "5f8183dc-c5f7-408a-800a-3004600b2890",
   "metadata": {},
   "source": [
    "In Python, finally is a block of code that is executed regardless of whether an exception is raised or not. The finally block is often used to clean up resources such as file handles or network connections, even if an exception is raised"
   ]
  },
  {
   "cell_type": "code",
   "execution_count": 11,
   "id": "5bd3ae92-ddab-4df4-beb5-f502c4e81d7e",
   "metadata": {},
   "outputs": [
    {
     "name": "stdout",
     "output_type": "stream",
     "text": [
      "[Errno 2] No such file or directory: 'test.txt'\n"
     ]
    }
   ],
   "source": [
    "f = None\n",
    "try:\n",
    "    f = open(\"test.txt\", \"r\")\n",
    "    f.read()\n",
    "except FileNotFoundError as e:\n",
    "    print(e)\n",
    "finally:\n",
    "    if f:\n",
    "        f.close()\n"
   ]
  },
  {
   "cell_type": "code",
   "execution_count": null,
   "id": "f5a446c7-980a-46cd-8731-c974c5c69221",
   "metadata": {},
   "outputs": [],
   "source": []
  },
  {
   "cell_type": "markdown",
   "id": "fe3d8e5c-ed20-4d85-85f4-1199035c3b50",
   "metadata": {},
   "source": [
    "The raise statement is used to raise an exception explicitly in Python. "
   ]
  },
  {
   "cell_type": "code",
   "execution_count": 12,
   "id": "08968219-8085-49c8-8166-c314d4268ef1",
   "metadata": {},
   "outputs": [
    {
     "ename": "Exception",
     "evalue": "x should not be greater than 5.",
     "output_type": "error",
     "traceback": [
      "\u001b[0;31m---------------------------------------------------------------------------\u001b[0m",
      "\u001b[0;31mException\u001b[0m                                 Traceback (most recent call last)",
      "Cell \u001b[0;32mIn[12], line 5\u001b[0m\n\u001b[1;32m      3\u001b[0m x \u001b[38;5;241m=\u001b[39m \u001b[38;5;241m10\u001b[39m\n\u001b[1;32m      4\u001b[0m \u001b[38;5;28;01mif\u001b[39;00m x \u001b[38;5;241m>\u001b[39m \u001b[38;5;241m5\u001b[39m:\n\u001b[0;32m----> 5\u001b[0m     \u001b[38;5;28;01mraise\u001b[39;00m \u001b[38;5;167;01mException\u001b[39;00m(\u001b[38;5;124m\"\u001b[39m\u001b[38;5;124mx should not be greater than 5.\u001b[39m\u001b[38;5;124m\"\u001b[39m)\n",
      "\u001b[0;31mException\u001b[0m: x should not be greater than 5."
     ]
    }
   ],
   "source": [
    "# Here's an example:\n",
    "\n",
    "x = 10\n",
    "if x > 5:\n",
    "    raise Exception(\"x should not be greater than 5.\")\n"
   ]
  },
  {
   "cell_type": "code",
   "execution_count": null,
   "id": "59eb7e60-1337-4bd2-9f68-5a82c09b03bd",
   "metadata": {},
   "outputs": [],
   "source": []
  },
  {
   "cell_type": "markdown",
   "id": "085b58e9-2cfd-45ed-8bf5-39f6ee864c78",
   "metadata": {},
   "source": [
    "Q5. What are Custom Exceptions in python? Why do we need Custom Exceptions? Explain with an example\n",
    "\n",
    "Answer--> Custom Errors are the error which are not raised by interprator but by user    to explicitly to handle specific error conditions in program. \n",
    "                We need custom error to make our code more readable, maintainable and to handle specific error conditions that are not covered by built-in exceptions."
   ]
  },
  {
   "cell_type": "code",
   "execution_count": 20,
   "id": "84938ba6-ce94-4353-b070-a8430ed1ae21",
   "metadata": {},
   "outputs": [
    {
     "name": "stdin",
     "output_type": "stream",
     "text": [
      "Enter a number:  8\n"
     ]
    },
    {
     "name": "stdout",
     "output_type": "stream",
     "text": [
      "The square root of 8 is 2.8284271247461903\n"
     ]
    }
   ],
   "source": [
    "# Here's an example \n",
    "\n",
    "class NegativeNumberError(Exception):\n",
    "    def __init__(self, value):\n",
    "        self.value = value\n",
    "\n",
    "    def __str__(self):\n",
    "        return f\"{self.value} is a negative number. Please enter a positive number.\"\n",
    "\n",
    "def calculate_square_root(num):\n",
    "    try:\n",
    "        if num < 0:\n",
    "            raise NegativeNumberError(num)\n",
    "        else:\n",
    "            return num ** 0.5\n",
    "    except NegativeNumberError as e:\n",
    "        print(e)\n",
    "\n",
    "num = int(input(\"Enter a number: \"))\n",
    "\n",
    "result = calculate_square_root(num)\n",
    "print(f\"The square root of {num} is {result}\")\n"
   ]
  },
  {
   "cell_type": "code",
   "execution_count": null,
   "id": "91fe1f44-6043-449a-8c1b-cd853b43a832",
   "metadata": {},
   "outputs": [],
   "source": []
  },
  {
   "cell_type": "markdown",
   "id": "90118fa0-9e5d-4abf-a682-d0407286288a",
   "metadata": {},
   "source": [
    "Q6. Create Custom exception class. Use this class to handle an exception."
   ]
  },
  {
   "cell_type": "code",
   "execution_count": 22,
   "id": "b753c5b8-e8d4-4c73-a17c-aeb69992f8ae",
   "metadata": {},
   "outputs": [
    {
     "name": "stdin",
     "output_type": "stream",
     "text": [
      "Enter your age:  -47\n"
     ]
    },
    {
     "name": "stdout",
     "output_type": "stream",
     "text": [
      "Entered age is negative\n"
     ]
    }
   ],
   "source": [
    "# so to handle this we define own error\n",
    "\n",
    "class customerror(Exception):   # to inserite all the property of Exception  \n",
    "    \n",
    "    def __init__(self, msg):\n",
    "        self.msg = msg\n",
    "\n",
    "def validate_age(age):\n",
    "    try:\n",
    "        if age < 0 :\n",
    "            raise customerror(\"Entered age is negative\")  # defining our own error with the help of raise keyword\n",
    "        elif age > 150 :\n",
    "            raise customerror(\"Entered age is very high\")\n",
    "        else :\n",
    "            print(\"Age is \", age)\n",
    "    except customerror as e:\n",
    "        print(e)\n",
    "        \n",
    "age = int(input(\"Enter your age: \"))\n",
    "validate_age(age)      # function call"
   ]
  },
  {
   "cell_type": "code",
   "execution_count": null,
   "id": "fc4d353f-6a88-4e4e-8624-5860c433b915",
   "metadata": {},
   "outputs": [],
   "source": []
  }
 ],
 "metadata": {
  "kernelspec": {
   "display_name": "Python 3 (ipykernel)",
   "language": "python",
   "name": "python3"
  },
  "language_info": {
   "codemirror_mode": {
    "name": "ipython",
    "version": 3
   },
   "file_extension": ".py",
   "mimetype": "text/x-python",
   "name": "python",
   "nbconvert_exporter": "python",
   "pygments_lexer": "ipython3",
   "version": "3.10.8"
  }
 },
 "nbformat": 4,
 "nbformat_minor": 5
}
